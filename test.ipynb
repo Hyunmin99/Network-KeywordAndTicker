{
 "cells": [
  {
   "cell_type": "code",
   "execution_count": 73,
   "metadata": {},
   "outputs": [],
   "source": [
    "import pandas as pd\n",
    "import re\n",
    "import streamlit as st\n",
    "import re\n",
    "import networkx as nx\n",
    "import matplotlib.pyplot as plt"
   ]
  },
  {
   "cell_type": "code",
   "execution_count": 63,
   "metadata": {},
   "outputs": [],
   "source": [
    "data = pd.read_csv('data/sample_data.csv')"
   ]
  },
  {
   "cell_type": "code",
   "execution_count": 64,
   "metadata": {},
   "outputs": [
    {
     "data": {
      "text/html": [
       "<div>\n",
       "<style scoped>\n",
       "    .dataframe tbody tr th:only-of-type {\n",
       "        vertical-align: middle;\n",
       "    }\n",
       "\n",
       "    .dataframe tbody tr th {\n",
       "        vertical-align: top;\n",
       "    }\n",
       "\n",
       "    .dataframe thead th {\n",
       "        text-align: right;\n",
       "    }\n",
       "</style>\n",
       "<table border=\"1\" class=\"dataframe\">\n",
       "  <thead>\n",
       "    <tr style=\"text-align: right;\">\n",
       "      <th></th>\n",
       "      <th>date</th>\n",
       "      <th>keyword</th>\n",
       "      <th>ticker count</th>\n",
       "    </tr>\n",
       "  </thead>\n",
       "  <tbody>\n",
       "    <tr>\n",
       "      <th>0</th>\n",
       "      <td>20220118</td>\n",
       "      <td>Navy</td>\n",
       "      <td>[('PBR-A', 1), ('REPYY', 1)]</td>\n",
       "    </tr>\n",
       "    <tr>\n",
       "      <th>1</th>\n",
       "      <td>20220118</td>\n",
       "      <td>Wells_Fargo_Securities</td>\n",
       "      <td>[('BAC', 1), ('BAC-PQ', 1), ('PFQAX', 1), ('WF...</td>\n",
       "    </tr>\n",
       "    <tr>\n",
       "      <th>2</th>\n",
       "      <td>20220118</td>\n",
       "      <td>covid-19</td>\n",
       "      <td>[('TM', 2), ('SBUX', 1), ('DAL', 1), ('GSBD', ...</td>\n",
       "    </tr>\n",
       "    <tr>\n",
       "      <th>3</th>\n",
       "      <td>20220118</td>\n",
       "      <td>quarter</td>\n",
       "      <td>[('BAC', 1), ('BAC-PQ', 1), ('PFQAX', 1), ('WF...</td>\n",
       "    </tr>\n",
       "    <tr>\n",
       "      <th>4</th>\n",
       "      <td>20220118</td>\n",
       "      <td>mexican</td>\n",
       "      <td>[('BNS', 1), ('C', 1)]</td>\n",
       "    </tr>\n",
       "    <tr>\n",
       "      <th>...</th>\n",
       "      <td>...</td>\n",
       "      <td>...</td>\n",
       "      <td>...</td>\n",
       "    </tr>\n",
       "    <tr>\n",
       "      <th>2545</th>\n",
       "      <td>20220118</td>\n",
       "      <td>asterisk</td>\n",
       "      <td>[('XOM', 1)]</td>\n",
       "    </tr>\n",
       "    <tr>\n",
       "      <th>2546</th>\n",
       "      <td>20220118</td>\n",
       "      <td>advertising</td>\n",
       "      <td>[('NUAN', 1), ('MSFT', 1), ('SNEJF', 1), ('SON...</td>\n",
       "    </tr>\n",
       "    <tr>\n",
       "      <th>2547</th>\n",
       "      <td>20220118</td>\n",
       "      <td>Australia</td>\n",
       "      <td>[('AMZN', 1), ('KO', 1), ('PEP', 1), ('WMT', 1...</td>\n",
       "    </tr>\n",
       "    <tr>\n",
       "      <th>2548</th>\n",
       "      <td>20220118</td>\n",
       "      <td>implication</td>\n",
       "      <td>[('BLK', 1)]</td>\n",
       "    </tr>\n",
       "    <tr>\n",
       "      <th>2549</th>\n",
       "      <td>20220118</td>\n",
       "      <td>rise</td>\n",
       "      <td>[('BABA', 2), ('GSBD', 2), ('MSFT', 1), ('ALEX...</td>\n",
       "    </tr>\n",
       "  </tbody>\n",
       "</table>\n",
       "<p>2550 rows × 3 columns</p>\n",
       "</div>"
      ],
      "text/plain": [
       "          date                 keyword  \\\n",
       "0     20220118                    Navy   \n",
       "1     20220118  Wells_Fargo_Securities   \n",
       "2     20220118                covid-19   \n",
       "3     20220118                 quarter   \n",
       "4     20220118                 mexican   \n",
       "...        ...                     ...   \n",
       "2545  20220118                asterisk   \n",
       "2546  20220118             advertising   \n",
       "2547  20220118               Australia   \n",
       "2548  20220118             implication   \n",
       "2549  20220118                    rise   \n",
       "\n",
       "                                           ticker count  \n",
       "0                          [('PBR-A', 1), ('REPYY', 1)]  \n",
       "1     [('BAC', 1), ('BAC-PQ', 1), ('PFQAX', 1), ('WF...  \n",
       "2     [('TM', 2), ('SBUX', 1), ('DAL', 1), ('GSBD', ...  \n",
       "3     [('BAC', 1), ('BAC-PQ', 1), ('PFQAX', 1), ('WF...  \n",
       "4                                [('BNS', 1), ('C', 1)]  \n",
       "...                                                 ...  \n",
       "2545                                       [('XOM', 1)]  \n",
       "2546  [('NUAN', 1), ('MSFT', 1), ('SNEJF', 1), ('SON...  \n",
       "2547  [('AMZN', 1), ('KO', 1), ('PEP', 1), ('WMT', 1...  \n",
       "2548                                       [('BLK', 1)]  \n",
       "2549  [('BABA', 2), ('GSBD', 2), ('MSFT', 1), ('ALEX...  \n",
       "\n",
       "[2550 rows x 3 columns]"
      ]
     },
     "execution_count": 64,
     "metadata": {},
     "output_type": "execute_result"
    }
   ],
   "source": [
    "data"
   ]
  },
  {
   "cell_type": "code",
   "execution_count": 72,
   "metadata": {},
   "outputs": [],
   "source": [
    "sel_date = 20220118\n",
    "sel_key = data.groupby('date').get_group(sel_date)"
   ]
  },
  {
   "cell_type": "code",
   "execution_count": 66,
   "metadata": {},
   "outputs": [],
   "source": [
    "sel_key['count'] = sel_key['ticker count']"
   ]
  },
  {
   "cell_type": "code",
   "execution_count": 67,
   "metadata": {},
   "outputs": [
    {
     "name": "stdout",
     "output_type": "stream",
     "text": [
      "ticker count: [('TM', 2), ('SBUX', 1), ('DAL', 1), ('GSBD', 1), ('KO', 1), ('BHP', 1)] and total count: 7\n"
     ]
    }
   ],
   "source": [
    "#[int(cnt) for cnt in sel_key['ticker count'][2].split() if cnt.isdigit()]\n",
    "total_count = sum(map(int, re.findall(r'\\d+', sel_key['ticker count'][2])))\n",
    "sel_key['count'] = sel_key['ticker count'].apply(lambda x: sum(map(int, re.findall(r'\\d+', x))))\n",
    "print(f\"ticker count: {sel_key['ticker count'][2]} and total count: {total_count}\")"
   ]
  },
  {
   "cell_type": "code",
   "execution_count": 70,
   "metadata": {
    "scrolled": false
   },
   "outputs": [
    {
     "data": {
      "text/plain": [
       "['company',\n",
       " 'market',\n",
       " 'share',\n",
       " 'U.S.',\n",
       " 'time',\n",
       " 'investor',\n",
       " 'business',\n",
       " 'industry',\n",
       " 'world',\n",
       " 'stock',\n",
       " 'Chief',\n",
       " 'Officer',\n",
       " 'analyst',\n",
       " 'platform',\n",
       " 'maker',\n",
       " 'investment',\n",
       " 'ceo',\n",
       " 'software',\n",
       " 'level',\n",
       " 'risk']"
      ]
     },
     "execution_count": 70,
     "metadata": {},
     "output_type": "execute_result"
    }
   ],
   "source": [
    "sel_key.sort_values(by=['count'], axis=0, ascending=False).head(20)['keyword'].tolist()"
   ]
  },
  {
   "cell_type": "code",
   "execution_count": 112,
   "metadata": {},
   "outputs": [],
   "source": [
    "keyword_list = sel_key.loc[(sel_key['keyword']=='company'), 'ticker count'].values[0]"
   ]
  },
  {
   "cell_type": "code",
   "execution_count": 113,
   "metadata": {},
   "outputs": [
    {
     "name": "stdout",
     "output_type": "stream",
     "text": [
      "('MSFT', 6), ('ATVI', 6), ('AMZN', 5), ('GOOGL', 4), ('BLK', 4), ('AAPL', 4), ('SONY', 4), ('FB', 4), ('ZNGA', 4), ('TM', 3), ('BABA', 3), ('VZ', 3), ('GS', 3), ('TSLA', 3), ('SNEJF', 3), ('GOOG', 3), ('NLOK', 3), ('TCEHY', 3), ('TCTZF', 3), ('TTWO', 3), ('COIN', 2), ('KO', 2), ('WMT', 2), ('SQ', 2), ('JPM', 2), ('JPM-PK', 2), ('JPM-PL', 2), ('JPM-PM', 2), ('XOM', 2), ('SHOP', 2), ('EANAX', 2), ('T', 2), ('BA', 2), ('BHP', 2), ('C', 2), ('CDNS', 2), ('GSBD', 2), ('ALEX', 2), ('EA', 2), ('T-PC', 2), ('STLA.MI', 1), ('SBUX', 1), ('PEP', 1), ('ABBV', 1), ('PTON', 1), ('RSKD', 1), ('MNDY', 1), ('EVT.DE', 1), ('LLY', 1), ('JD', 1), ('JBLU', 1), ('AAL', 1), ('UAL', 1), ('FDX', 1), ('ULCC', 1), ('XMTR', 1), ('AKA', 1), ('FWRG', 1), ('CNVY', 1), ('VECT', 1), ('PATH', 1), ('NRDS', 1), ('MLNK', 1), ('IPO', 1), ('DTC', 1), ('PRCT', 1), ('OMIC', 1), ('NVEI', 1), ('ESMT', 1), ('FDMT', 1), ('BHG', 1), ('GLNCY', 1), ('FCX', 1), ('ERIC', 1), ('IBKR', 1), ('BAC', 1), ('BAC-PQ', 1), ('PFQAX', 1), ('WFC', 1), ('WFC-PD', 1), ('PNC', 1), ('XLF', 1), ('MA', 1), ('CVX', 1), ('RY', 1), ('PINS', 1), ('XRSMF', 1), ('ESPIX', 1), ('GME', 1), ('AMC', 1), ('CHWY', 1), ('SU', 1), ('BLNK', 1), ('GM', 1), ('ABM', 1), ('CLR', 1), ('CHK', 1), ('EPGNF', 1), ('M', 1), ('PDVAX', 1), ('PDAAX', 1), ('PDICX', 1), ('PDIIX', 1), ('PDNIX', 1), ('PDVBX', 1), ('PDVDX', 1), ('PDVPX', 1), ('NKE', 1), ('BBY', 1), ('DKS', 1), ('UA', 1), ('UAA', 1), ('ASML', 1), ('GSK', 1), ('UL', 1), ('MELI', 1), ('NUAN', 1), ('F', 1), ('RIVN', 1), ('T-PA', 1), ('JAPSY', 1), ('JPNRF', 1), ('SONO', 1), ('YELP', 1), ('SPOT', 1), ('MTCH', 1), ('TEVA', 1), ('NYT', 1)\n"
     ]
    }
   ],
   "source": [
    "keyword_list = keyword_list[1:-1]\n",
    "print(keyword_list)"
   ]
  },
  {
   "cell_type": "code",
   "execution_count": 147,
   "metadata": {},
   "outputs": [
    {
     "name": "stdout",
     "output_type": "stream",
     "text": [
      "[\"('MSFT', 6)\", \"('ATVI', 6)\", \"('AMZN', 5)\", \"('GOOGL', 4)\", \"('BLK', 4)\", \"('AAPL', 4)\", \"('SONY', 4)\", \"('FB', 4)\", \"('ZNGA', 4)\", \"('TM', 3)\", \"('BABA', 3)\", \"('VZ', 3)\", \"('GS', 3)\", \"('TSLA', 3)\", \"('SNEJF', 3)\", \"('GOOG', 3)\", \"('NLOK', 3)\", \"('TCEHY', 3)\", \"('TCTZF', 3)\", \"('TTWO', 3)\", \"('COIN', 2)\", \"('KO', 2)\", \"('WMT', 2)\", \"('SQ', 2)\", \"('JPM', 2)\", \"('JPM-PK', 2)\", \"('JPM-PL', 2)\", \"('JPM-PM', 2)\", \"('XOM', 2)\", \"('SHOP', 2)\", \"('EANAX', 2)\", \"('T', 2)\", \"('BA', 2)\", \"('BHP', 2)\", \"('C', 2)\", \"('CDNS', 2)\", \"('GSBD', 2)\", \"('ALEX', 2)\", \"('EA', 2)\", \"('T-PC', 2)\", \"('STLA.MI', 1)\", \"('SBUX', 1)\", \"('PEP', 1)\", \"('ABBV', 1)\", \"('PTON', 1)\", \"('RSKD', 1)\", \"('MNDY', 1)\", \"('EVT.DE', 1)\", \"('LLY', 1)\", \"('JD', 1)\", \"('JBLU', 1)\", \"('AAL', 1)\", \"('UAL', 1)\", \"('FDX', 1)\", \"('ULCC', 1)\", \"('XMTR', 1)\", \"('AKA', 1)\", \"('FWRG', 1)\", \"('CNVY', 1)\", \"('VECT', 1)\", \"('PATH', 1)\", \"('NRDS', 1)\", \"('MLNK', 1)\", \"('IPO', 1)\", \"('DTC', 1)\", \"('PRCT', 1)\", \"('OMIC', 1)\", \"('NVEI', 1)\", \"('ESMT', 1)\", \"('FDMT', 1)\", \"('BHG', 1)\", \"('GLNCY', 1)\", \"('FCX', 1)\", \"('ERIC', 1)\", \"('IBKR', 1)\", \"('BAC', 1)\", \"('BAC-PQ', 1)\", \"('PFQAX', 1)\", \"('WFC', 1)\", \"('WFC-PD', 1)\", \"('PNC', 1)\", \"('XLF', 1)\", \"('MA', 1)\", \"('CVX', 1)\", \"('RY', 1)\", \"('PINS', 1)\", \"('XRSMF', 1)\", \"('ESPIX', 1)\", \"('GME', 1)\", \"('AMC', 1)\", \"('CHWY', 1)\", \"('SU', 1)\", \"('BLNK', 1)\", \"('GM', 1)\", \"('ABM', 1)\", \"('CLR', 1)\", \"('CHK', 1)\", \"('EPGNF', 1)\", \"('M', 1)\", \"('PDVAX', 1)\", \"('PDAAX', 1)\", \"('PDICX', 1)\", \"('PDIIX', 1)\", \"('PDNIX', 1)\", \"('PDVBX', 1)\", \"('PDVDX', 1)\", \"('PDVPX', 1)\", \"('NKE', 1)\", \"('BBY', 1)\", \"('DKS', 1)\", \"('UA', 1)\", \"('UAA', 1)\", \"('ASML', 1)\", \"('GSK', 1)\", \"('UL', 1)\", \"('MELI', 1)\", \"('NUAN', 1)\", \"('F', 1)\", \"('RIVN', 1)\", \"('T-PA', 1)\", \"('JAPSY', 1)\", \"('JPNRF', 1)\", \"('SONO', 1)\", \"('YELP', 1)\", \"('SPOT', 1)\", \"('MTCH', 1)\", \"('TEVA', 1)\", \"('NYT', 1)\"]\n"
     ]
    }
   ],
   "source": [
    "keyword_list2 = re.findall(r'\\(\\'\\D+\\', \\d\\)', keyword_list)\n",
    "print(keyword_list2)"
   ]
  },
  {
   "cell_type": "code",
   "execution_count": 150,
   "metadata": {},
   "outputs": [
    {
     "name": "stdout",
     "output_type": "stream",
     "text": [
      "('MSFT', 6)\n",
      "('ATVI', 6)\n",
      "('AMZN', 5)\n",
      "('GOOGL', 4)\n",
      "('BLK', 4)\n",
      "('AAPL', 4)\n",
      "('SONY', 4)\n",
      "('FB', 4)\n",
      "('ZNGA', 4)\n",
      "('TM', 3)\n",
      "('BABA', 3)\n",
      "('VZ', 3)\n",
      "('GS', 3)\n",
      "('TSLA', 3)\n",
      "('SNEJF', 3)\n",
      "('GOOG', 3)\n",
      "('NLOK', 3)\n",
      "('TCEHY', 3)\n",
      "('TCTZF', 3)\n",
      "('TTWO', 3)\n",
      "('COIN', 2)\n",
      "('KO', 2)\n",
      "('WMT', 2)\n",
      "('SQ', 2)\n",
      "('JPM', 2)\n",
      "('JPM-PK', 2)\n",
      "('JPM-PL', 2)\n",
      "('JPM-PM', 2)\n",
      "('XOM', 2)\n",
      "('SHOP', 2)\n",
      "('EANAX', 2)\n",
      "('T', 2)\n",
      "('BA', 2)\n",
      "('BHP', 2)\n",
      "('C', 2)\n",
      "('CDNS', 2)\n",
      "('GSBD', 2)\n",
      "('ALEX', 2)\n",
      "('EA', 2)\n",
      "('T-PC', 2)\n",
      "('STLA.MI', 1)\n",
      "('SBUX', 1)\n",
      "('PEP', 1)\n",
      "('ABBV', 1)\n",
      "('PTON', 1)\n",
      "('RSKD', 1)\n",
      "('MNDY', 1)\n",
      "('EVT.DE', 1)\n",
      "('LLY', 1)\n",
      "('JD', 1)\n",
      "('JBLU', 1)\n",
      "('AAL', 1)\n",
      "('UAL', 1)\n",
      "('FDX', 1)\n",
      "('ULCC', 1)\n",
      "('XMTR', 1)\n",
      "('AKA', 1)\n",
      "('FWRG', 1)\n",
      "('CNVY', 1)\n",
      "('VECT', 1)\n",
      "('PATH', 1)\n",
      "('NRDS', 1)\n",
      "('MLNK', 1)\n",
      "('IPO', 1)\n",
      "('DTC', 1)\n",
      "('PRCT', 1)\n",
      "('OMIC', 1)\n",
      "('NVEI', 1)\n",
      "('ESMT', 1)\n",
      "('FDMT', 1)\n",
      "('BHG', 1)\n",
      "('GLNCY', 1)\n",
      "('FCX', 1)\n",
      "('ERIC', 1)\n",
      "('IBKR', 1)\n",
      "('BAC', 1)\n",
      "('BAC-PQ', 1)\n",
      "('PFQAX', 1)\n",
      "('WFC', 1)\n",
      "('WFC-PD', 1)\n",
      "('PNC', 1)\n",
      "('XLF', 1)\n",
      "('MA', 1)\n",
      "('CVX', 1)\n",
      "('RY', 1)\n",
      "('PINS', 1)\n",
      "('XRSMF', 1)\n",
      "('ESPIX', 1)\n",
      "('GME', 1)\n",
      "('AMC', 1)\n",
      "('CHWY', 1)\n",
      "('SU', 1)\n",
      "('BLNK', 1)\n",
      "('GM', 1)\n",
      "('ABM', 1)\n",
      "('CLR', 1)\n",
      "('CHK', 1)\n",
      "('EPGNF', 1)\n",
      "('M', 1)\n",
      "('PDVAX', 1)\n",
      "('PDAAX', 1)\n",
      "('PDICX', 1)\n",
      "('PDIIX', 1)\n",
      "('PDNIX', 1)\n",
      "('PDVBX', 1)\n",
      "('PDVDX', 1)\n",
      "('PDVPX', 1)\n",
      "('NKE', 1)\n",
      "('BBY', 1)\n",
      "('DKS', 1)\n",
      "('UA', 1)\n",
      "('UAA', 1)\n",
      "('ASML', 1)\n",
      "('GSK', 1)\n",
      "('UL', 1)\n",
      "('MELI', 1)\n",
      "('NUAN', 1)\n",
      "('F', 1)\n",
      "('RIVN', 1)\n",
      "('T-PA', 1)\n",
      "('JAPSY', 1)\n",
      "('JPNRF', 1)\n",
      "('SONO', 1)\n",
      "('YELP', 1)\n",
      "('SPOT', 1)\n",
      "('MTCH', 1)\n",
      "('TEVA', 1)\n",
      "('NYT', 1)\n"
     ]
    }
   ],
   "source": [
    "\n",
    "\n",
    "for idx, data in enumerate(keyword_list2):\n",
    "    print(data)"
   ]
  },
  {
   "cell_type": "code",
   "execution_count": null,
   "metadata": {},
   "outputs": [],
   "source": []
  }
 ],
 "metadata": {
  "kernelspec": {
   "display_name": "Python 3",
   "language": "python",
   "name": "python3"
  },
  "language_info": {
   "codemirror_mode": {
    "name": "ipython",
    "version": 3
   },
   "file_extension": ".py",
   "mimetype": "text/x-python",
   "name": "python",
   "nbconvert_exporter": "python",
   "pygments_lexer": "ipython3",
   "version": "3.7.9"
  }
 },
 "nbformat": 4,
 "nbformat_minor": 4
}
