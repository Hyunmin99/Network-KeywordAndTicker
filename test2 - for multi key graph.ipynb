{
 "cells": [
  {
   "cell_type": "code",
   "execution_count": 2,
   "metadata": {},
   "outputs": [],
   "source": [
    "import pandas as pd\n",
    "import re\n",
    "import streamlit as st\n",
    "import re\n",
    "import networkx as nx\n",
    "import matplotlib.pyplot as plt\n",
    "from ast import literal_eval"
   ]
  },
  {
   "cell_type": "code",
   "execution_count": 193,
   "metadata": {},
   "outputs": [],
   "source": [
    "data = pd.read_csv('data/Match Keyword and Ticker Count_day.csv')"
   ]
  },
  {
   "cell_type": "code",
   "execution_count": 194,
   "metadata": {
    "scrolled": true
   },
   "outputs": [],
   "source": [
    "test_data = data.loc[data['date']==20220118].reset_index(drop = True)"
   ]
  },
  {
   "cell_type": "code",
   "execution_count": 195,
   "metadata": {},
   "outputs": [],
   "source": [
    "test_data['ticker count'] = test_data['ticker count'].map(lambda x: literal_eval(x))"
   ]
  },
  {
   "cell_type": "code",
   "execution_count": 211,
   "metadata": {},
   "outputs": [
    {
     "name": "stdout",
     "output_type": "stream",
     "text": [
      "       date    keyword                                       ticker count\n",
      "0  20220118  economist                                         [(BLK, 1)]\n",
      "1  20220118    fortune                                     [(STLA.MI, 1)]\n",
      "2  20220118  Kinoshita                                          [(TM, 1)]\n",
      "3  20220118       hour  [(BAC, 1), (BAC-PQ, 1), (PFQAX, 1), (WFC, 1), ...\n",
      "4  20220118    website  [(BLK, 1), (SONO, 1), (AMZN, 1), (FB, 1), (GOO...\n"
     ]
    }
   ],
   "source": [
    "test = test_data[10:15].reset_index(drop=True)\n",
    "print(test)"
   ]
  },
  {
   "cell_type": "code",
   "execution_count": 210,
   "metadata": {
    "scrolled": true
   },
   "outputs": [
    {
     "name": "stdout",
     "output_type": "stream",
     "text": [
      "      keyword   ticker  count\n",
      "0   economist      BLK      1\n",
      "1     fortune  STLA.MI      1\n",
      "2   Kinoshita       TM      1\n",
      "3        hour      BAC      1\n",
      "4        hour   BAC-PQ      1\n",
      "5        hour    PFQAX      1\n",
      "6        hour      WFC      1\n",
      "7        hour   WFC-PD      1\n",
      "8        hour       GS      1\n",
      "9        hour        C      1\n",
      "10       hour      PNC      1\n",
      "11       hour      JPM      1\n",
      "12       hour   JPM-PK      1\n",
      "13       hour   JPM-PL      1\n",
      "14       hour   JPM-PM      1\n",
      "15       hour      XLF      1\n",
      "16       hour     BLNK      1\n",
      "17       hour       GM      1\n",
      "18       hour      ABM      1\n",
      "19    website      BLK      1\n",
      "20    website     SONO      1\n",
      "21    website     AMZN      1\n",
      "22    website       FB      1\n",
      "23    website     GOOG      1\n",
      "24    website    GOOGL      1\n",
      "25    website     YELP      1\n",
      "26    website     AAPL      1\n",
      "27    website     ZNGA      1\n",
      "28    website     SPOT      1\n",
      "29    website     MTCH      1\n",
      "30    website  SGRE.MC      1\n",
      "31    website       GE      1\n"
     ]
    }
   ],
   "source": [
    "#my version - for one keyword\n",
    "result = pd.DataFrame()\n",
    "for idx in range(len(test)):\n",
    "    tmp = test['ticker count'][idx]\n",
    "\n",
    "    df = pd.DataFrame(tmp, columns = ['ticker', 'count'])\n",
    "    df['keyword'] = test['keyword'][idx]\n",
    "    df = df[['keyword', 'ticker', 'count']]\n",
    "    result = pd.concat([result, df])\n",
    "    \n",
    "print(result.reset_index(drop=True))"
   ]
  },
  {
   "cell_type": "code",
   "execution_count": 212,
   "metadata": {},
   "outputs": [
    {
     "data": {
      "text/plain": [
       "['keyword', 'ticker', 'count']"
      ]
     },
     "execution_count": 212,
     "metadata": {},
     "output_type": "execute_result"
    }
   ],
   "source": [
    "result.reset_index(drop=True).columns.values.tolist()"
   ]
  },
  {
   "cell_type": "code",
   "execution_count": 186,
   "metadata": {},
   "outputs": [],
   "source": [
    "result_df = pd.DataFrame()\n",
    "for idx in range(len(data)):\n",
    "    df = pd.DataFrame([*data.iloc[idx]['ticker count']])\n",
    "    df['date'],df['keyword'] = data.iloc[idx]['date'],data.iloc[idx]['keyword']\n",
    "    result_df = pd.concat([result_df,df])\n",
    "    \n",
    "result_df.columns = ['ticker','count','date','keyword']\n",
    "result_df = result_df[['date','keyword','ticker','count']]"
   ]
  },
  {
   "cell_type": "code",
   "execution_count": 192,
   "metadata": {},
   "outputs": [
    {
     "data": {
      "text/html": [
       "<div>\n",
       "<style scoped>\n",
       "    .dataframe tbody tr th:only-of-type {\n",
       "        vertical-align: middle;\n",
       "    }\n",
       "\n",
       "    .dataframe tbody tr th {\n",
       "        vertical-align: top;\n",
       "    }\n",
       "\n",
       "    .dataframe thead th {\n",
       "        text-align: right;\n",
       "    }\n",
       "</style>\n",
       "<table border=\"1\" class=\"dataframe\">\n",
       "  <thead>\n",
       "    <tr style=\"text-align: right;\">\n",
       "      <th></th>\n",
       "      <th>date</th>\n",
       "      <th>keyword</th>\n",
       "      <th>ticker</th>\n",
       "      <th>count</th>\n",
       "    </tr>\n",
       "  </thead>\n",
       "  <tbody>\n",
       "    <tr>\n",
       "      <th>0</th>\n",
       "      <td>20220118</td>\n",
       "      <td>Navy</td>\n",
       "      <td>PBR-A</td>\n",
       "      <td>1</td>\n",
       "    </tr>\n",
       "    <tr>\n",
       "      <th>1</th>\n",
       "      <td>20220118</td>\n",
       "      <td>Navy</td>\n",
       "      <td>REPYY</td>\n",
       "      <td>1</td>\n",
       "    </tr>\n",
       "    <tr>\n",
       "      <th>0</th>\n",
       "      <td>20220118</td>\n",
       "      <td>Wells_Fargo_Securities</td>\n",
       "      <td>BAC</td>\n",
       "      <td>1</td>\n",
       "    </tr>\n",
       "    <tr>\n",
       "      <th>1</th>\n",
       "      <td>20220118</td>\n",
       "      <td>Wells_Fargo_Securities</td>\n",
       "      <td>BAC-PQ</td>\n",
       "      <td>1</td>\n",
       "    </tr>\n",
       "    <tr>\n",
       "      <th>2</th>\n",
       "      <td>20220118</td>\n",
       "      <td>Wells_Fargo_Securities</td>\n",
       "      <td>PFQAX</td>\n",
       "      <td>1</td>\n",
       "    </tr>\n",
       "    <tr>\n",
       "      <th>...</th>\n",
       "      <td>...</td>\n",
       "      <td>...</td>\n",
       "      <td>...</td>\n",
       "      <td>...</td>\n",
       "    </tr>\n",
       "    <tr>\n",
       "      <th>13</th>\n",
       "      <td>20220118</td>\n",
       "      <td>rise</td>\n",
       "      <td>TTWO</td>\n",
       "      <td>1</td>\n",
       "    </tr>\n",
       "    <tr>\n",
       "      <th>14</th>\n",
       "      <td>20220118</td>\n",
       "      <td>rise</td>\n",
       "      <td>MELI</td>\n",
       "      <td>1</td>\n",
       "    </tr>\n",
       "    <tr>\n",
       "      <th>15</th>\n",
       "      <td>20220118</td>\n",
       "      <td>rise</td>\n",
       "      <td>SCHW</td>\n",
       "      <td>1</td>\n",
       "    </tr>\n",
       "    <tr>\n",
       "      <th>16</th>\n",
       "      <td>20220118</td>\n",
       "      <td>rise</td>\n",
       "      <td>BLK</td>\n",
       "      <td>1</td>\n",
       "    </tr>\n",
       "    <tr>\n",
       "      <th>17</th>\n",
       "      <td>20220118</td>\n",
       "      <td>rise</td>\n",
       "      <td>BK</td>\n",
       "      <td>1</td>\n",
       "    </tr>\n",
       "  </tbody>\n",
       "</table>\n",
       "<p>20434 rows × 4 columns</p>\n",
       "</div>"
      ],
      "text/plain": [
       "        date                 keyword  ticker  count\n",
       "0   20220118                    Navy   PBR-A      1\n",
       "1   20220118                    Navy   REPYY      1\n",
       "0   20220118  Wells_Fargo_Securities     BAC      1\n",
       "1   20220118  Wells_Fargo_Securities  BAC-PQ      1\n",
       "2   20220118  Wells_Fargo_Securities   PFQAX      1\n",
       "..       ...                     ...     ...    ...\n",
       "13  20220118                    rise    TTWO      1\n",
       "14  20220118                    rise    MELI      1\n",
       "15  20220118                    rise    SCHW      1\n",
       "16  20220118                    rise     BLK      1\n",
       "17  20220118                    rise      BK      1\n",
       "\n",
       "[20434 rows x 4 columns]"
      ]
     },
     "execution_count": 192,
     "metadata": {},
     "output_type": "execute_result"
    }
   ],
   "source": [
    "result_df"
   ]
  },
  {
   "cell_type": "code",
   "execution_count": null,
   "metadata": {},
   "outputs": [],
   "source": []
  }
 ],
 "metadata": {
  "kernelspec": {
   "display_name": "Python 3",
   "language": "python",
   "name": "python3"
  },
  "language_info": {
   "codemirror_mode": {
    "name": "ipython",
    "version": 3
   },
   "file_extension": ".py",
   "mimetype": "text/x-python",
   "name": "python",
   "nbconvert_exporter": "python",
   "pygments_lexer": "ipython3",
   "version": "3.7.9"
  }
 },
 "nbformat": 4,
 "nbformat_minor": 4
}
